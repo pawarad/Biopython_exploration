{
 "cells": [
  {
   "cell_type": "code",
   "execution_count": 9,
   "metadata": {},
   "outputs": [],
   "source": [
    "def travelling_seat(i):\n",
    "    \"\"\"\n",
    "    - According to the seating arrangement lets divide them in groups of 12\n",
    "    - Take the first seat of the group as 'a' and last seat as 'b' \n",
    "    - Calculate the distance of input seat 'i' from 'a' and get the same distance seat number from 'b' to get the \n",
    "    opposite facing seat 'opp'\n",
    "    - Now to calculate 'WS,'MS' or 'AS', get the remainder of the 'i' seat by dividing it by 6 and calculate \n",
    "    'seat' accordingly\n",
    "    \n",
    "    \"\"\"\n",
    "    p = i // 12\n",
    "    r = range(12*p+1, 12*p+13)\n",
    "    for k in r:\n",
    "        a = r[0]\n",
    "        b = r[-1]\n",
    "        \n",
    "        dist = i - a\n",
    "        opp = b - dist\n",
    "        \n",
    "    if i % 6 == 1 or i % 6 == 0:\n",
    "        seat = \"WS\"\n",
    "    elif i % 6 == 2 or i % 6 == 5:\n",
    "        seat = \"MS\"\n",
    "    elif i % 6 == 3 or i % 6 == 4:\n",
    "        seat = \"AS\"\n",
    "    return opp,seat\n",
    "\n",
    "def many_seats(n):\n",
    "    \"\"\"\n",
    "    - If we have list of inputs(many seats) lets iterate every seat through input and call the 'travlelling_seat' \n",
    "    function and save the ouput and 'output' list\n",
    "    \"\"\"\n",
    "    output = []\n",
    "    for j in n:\n",
    "        output.append(travelling_seat(j))\n",
    "    return output"
   ]
  },
  {
   "cell_type": "code",
   "execution_count": 10,
   "metadata": {},
   "outputs": [
    {
     "data": {
      "text/plain": [
       "(14, 'MS')"
      ]
     },
     "execution_count": 10,
     "metadata": {},
     "output_type": "execute_result"
    }
   ],
   "source": [
    "travelling_seat(23)"
   ]
  },
  {
   "cell_type": "code",
   "execution_count": 11,
   "metadata": {},
   "outputs": [
    {
     "data": {
      "text/plain": [
       "[(19, 'WS'), (45, 'AS')]"
      ]
     },
     "execution_count": 11,
     "metadata": {},
     "output_type": "execute_result"
    }
   ],
   "source": [
    "many_seats([18,40])"
   ]
  },
  {
   "cell_type": "code",
   "execution_count": null,
   "metadata": {},
   "outputs": [],
   "source": []
  }
 ],
 "metadata": {
  "kernelspec": {
   "display_name": "Python 3",
   "language": "python",
   "name": "python3"
  },
  "language_info": {
   "codemirror_mode": {
    "name": "ipython",
    "version": 3
   },
   "file_extension": ".py",
   "mimetype": "text/x-python",
   "name": "python",
   "nbconvert_exporter": "python",
   "pygments_lexer": "ipython3",
   "version": "3.7.6"
  }
 },
 "nbformat": 4,
 "nbformat_minor": 4
}
