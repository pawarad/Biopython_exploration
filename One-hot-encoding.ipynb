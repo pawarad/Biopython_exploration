{
 "cells": [
  {
   "cell_type": "code",
   "execution_count": 15,
   "metadata": {},
   "outputs": [],
   "source": [
    "import pandas as pd\n",
    "import numpy as np"
   ]
  },
  {
   "cell_type": "code",
   "execution_count": 3,
   "metadata": {},
   "outputs": [],
   "source": [
    "df = pd.read_pickle(\"CDR_heavy_clean_padded.pkl\")"
   ]
  },
  {
   "cell_type": "markdown",
   "metadata": {},
   "source": [
    "## Normal one hot encoding"
   ]
  },
  {
   "cell_type": "code",
   "execution_count": null,
   "metadata": {},
   "outputs": [],
   "source": [
    "def one_hot_encode(seq):\n",
    "    mapping = dict(zip('ARNDCEQGHILKMFPSTWYV', range(20)))    \n",
    "    seq2 = [mapping[i] for i in seq]\n",
    "    return np.eye(20)[seq2]"
   ]
  },
  {
   "cell_type": "code",
   "execution_count": 79,
   "metadata": {},
   "outputs": [
    {
     "data": {
      "text/plain": [
       "'TSGFTFSDYYM'"
      ]
     },
     "execution_count": 79,
     "metadata": {},
     "output_type": "execute_result"
    }
   ],
   "source": [
    "df['CDR'][3]"
   ]
  },
  {
   "cell_type": "code",
   "execution_count": 63,
   "metadata": {},
   "outputs": [
    {
     "data": {
      "text/plain": [
       "array([[0., 0., 0., 0., 0., 0., 0., 0., 0., 0., 0., 0., 0., 0., 0., 0.,\n",
       "        1., 0., 0., 0.],\n",
       "       [0., 0., 0., 0., 0., 0., 0., 0., 0., 0., 0., 0., 0., 0., 0., 1.,\n",
       "        0., 0., 0., 0.],\n",
       "       [0., 0., 0., 0., 0., 0., 0., 1., 0., 0., 0., 0., 0., 0., 0., 0.,\n",
       "        0., 0., 0., 0.],\n",
       "       [0., 0., 0., 0., 0., 0., 0., 0., 0., 0., 0., 0., 0., 1., 0., 0.,\n",
       "        0., 0., 0., 0.],\n",
       "       [0., 0., 0., 0., 0., 0., 0., 0., 0., 0., 0., 0., 0., 0., 0., 0.,\n",
       "        1., 0., 0., 0.],\n",
       "       [0., 0., 0., 0., 0., 0., 0., 0., 0., 0., 0., 0., 0., 1., 0., 0.,\n",
       "        0., 0., 0., 0.],\n",
       "       [0., 0., 0., 0., 0., 0., 0., 0., 0., 0., 0., 0., 0., 0., 0., 1.,\n",
       "        0., 0., 0., 0.],\n",
       "       [0., 0., 0., 1., 0., 0., 0., 0., 0., 0., 0., 0., 0., 0., 0., 0.,\n",
       "        0., 0., 0., 0.],\n",
       "       [0., 0., 0., 0., 0., 0., 0., 0., 0., 0., 0., 0., 0., 0., 0., 0.,\n",
       "        0., 0., 1., 0.],\n",
       "       [0., 0., 0., 0., 0., 0., 0., 0., 0., 0., 0., 0., 0., 0., 0., 0.,\n",
       "        0., 0., 1., 0.],\n",
       "       [0., 0., 0., 0., 0., 0., 0., 0., 0., 0., 0., 0., 1., 0., 0., 0.,\n",
       "        0., 0., 0., 0.]])"
      ]
     },
     "execution_count": 63,
     "metadata": {},
     "output_type": "execute_result"
    }
   ],
   "source": [
    "one_hot_encode(df['CDR'][3])"
   ]
  },
  {
   "cell_type": "code",
   "execution_count": 68,
   "metadata": {},
   "outputs": [],
   "source": [
    "normal_one_hot = []\n",
    "for i in range(len(df['CDR'])):\n",
    "    on_hot = one_hot_encode(df['CDR'][i])\n",
    "#     print(on_hot)\n",
    "    normal_one_hot.append(on_hot)"
   ]
  },
  {
   "cell_type": "code",
   "execution_count": 73,
   "metadata": {},
   "outputs": [
    {
     "data": {
      "text/plain": [
       "2070"
      ]
     },
     "execution_count": 73,
     "metadata": {},
     "output_type": "execute_result"
    }
   ],
   "source": [
    "len(normal_one_hot)"
   ]
  },
  {
   "cell_type": "code",
   "execution_count": null,
   "metadata": {},
   "outputs": [],
   "source": []
  },
  {
   "cell_type": "markdown",
   "metadata": {},
   "source": [
    "## Adding Meiler's feature for padding along with one hot encoding based on structural properties"
   ]
  },
  {
   "cell_type": "code",
   "execution_count": 55,
   "metadata": {},
   "outputs": [],
   "source": [
    "def seq_to_one_hot(res_seq_one):\n",
    "    from keras.utils.np_utils import to_categorical\n",
    "    ints = one_to_number(res_seq_one)\n",
    "    feats = aa_features()[ints]\n",
    "    onehot = to_categorical(ints, num_classes=len(aa_s))\n",
    "    return np.concatenate((onehot, feats), axis=1)\n",
    "\n",
    "aa_s = \"CSTPAGNDEQHRKMILVFYW\"\n",
    "def one_to_number(res_str):\n",
    "    return [aa_s.index(r) for r in res_str]\n",
    "\n",
    "def aa_features():\n",
    "    # Meiler's features\n",
    "    prop1 = [[1.77, 0.13, 2.43,  1.54,  6.35, 0.17, 0.41],\n",
    "             [1.31, 0.06, 1.60, -0.04,  5.70, 0.20, 0.28],\n",
    "             [3.03, 0.11, 2.60,  0.26,  5.60, 0.21, 0.36],\n",
    "             [2.67, 0.00, 2.72,  0.72,  6.80, 0.13, 0.34],\n",
    "             [1.28, 0.05, 1.00,  0.31,  6.11, 0.42, 0.23],\n",
    "             [0.00, 0.00, 0.00,  0.00,  6.07, 0.13, 0.15],\n",
    "             [1.60, 0.13, 2.95, -0.60,  6.52, 0.21, 0.22],\n",
    "             [1.60, 0.11, 2.78, -0.77,  2.95, 0.25, 0.20],\n",
    "             [1.56, 0.15, 3.78, -0.64,  3.09, 0.42, 0.21],\n",
    "             [1.56, 0.18, 3.95, -0.22,  5.65, 0.36, 0.25],\n",
    "             [2.99, 0.23, 4.66,  0.13,  7.69, 0.27, 0.30],\n",
    "             [2.34, 0.29, 6.13, -1.01, 10.74, 0.36, 0.25],\n",
    "             [1.89, 0.22, 4.77, -0.99,  9.99, 0.32, 0.27],\n",
    "             [2.35, 0.22, 4.43,  1.23,  5.71, 0.38, 0.32],\n",
    "             [4.19, 0.19, 4.00,  1.80,  6.04, 0.30, 0.45],\n",
    "             [2.59, 0.19, 4.00,  1.70,  6.04, 0.39, 0.31],\n",
    "             [3.67, 0.14, 3.00,  1.22,  6.02, 0.27, 0.49],\n",
    "             [2.94, 0.29, 5.89,  1.79,  5.67, 0.30, 0.38],\n",
    "             [2.94, 0.30, 6.47,  0.96,  5.66, 0.25, 0.41],\n",
    "             [3.21, 0.41, 8.08,  2.25,  5.94, 0.32, 0.42],\n",
    "             [0.00, 0.00, 0.00,  0.00,  0.00, 0.00, 0.00]]\n",
    "    return np.array(prop1)\n"
   ]
  },
  {
   "cell_type": "code",
   "execution_count": 57,
   "metadata": {},
   "outputs": [],
   "source": [
    "cdr_mat = seq_to_one_hot(df['CDR'][1])"
   ]
  },
  {
   "cell_type": "code",
   "execution_count": 51,
   "metadata": {},
   "outputs": [
    {
     "data": {
      "text/plain": [
       "'MIWGDGNTD'"
      ]
     },
     "execution_count": 51,
     "metadata": {},
     "output_type": "execute_result"
    }
   ],
   "source": [
    "df['CDR'][1]"
   ]
  },
  {
   "cell_type": "code",
   "execution_count": 58,
   "metadata": {},
   "outputs": [
    {
     "data": {
      "text/plain": [
       "array([[ 0.  ,  0.  ,  0.  ,  0.  ,  0.  ,  0.  ,  0.  ,  0.  ,  0.  ,\n",
       "         0.  ,  0.  ,  0.  ,  0.  ,  1.  ,  0.  ,  0.  ,  0.  ,  0.  ,\n",
       "         0.  ,  0.  ,  2.35,  0.22,  4.43,  1.23,  5.71,  0.38,  0.32],\n",
       "       [ 0.  ,  0.  ,  0.  ,  0.  ,  0.  ,  0.  ,  0.  ,  0.  ,  0.  ,\n",
       "         0.  ,  0.  ,  0.  ,  0.  ,  0.  ,  1.  ,  0.  ,  0.  ,  0.  ,\n",
       "         0.  ,  0.  ,  4.19,  0.19,  4.  ,  1.8 ,  6.04,  0.3 ,  0.45],\n",
       "       [ 0.  ,  0.  ,  0.  ,  0.  ,  0.  ,  0.  ,  0.  ,  0.  ,  0.  ,\n",
       "         0.  ,  0.  ,  0.  ,  0.  ,  0.  ,  0.  ,  0.  ,  0.  ,  0.  ,\n",
       "         0.  ,  1.  ,  3.21,  0.41,  8.08,  2.25,  5.94,  0.32,  0.42],\n",
       "       [ 0.  ,  0.  ,  0.  ,  0.  ,  0.  ,  1.  ,  0.  ,  0.  ,  0.  ,\n",
       "         0.  ,  0.  ,  0.  ,  0.  ,  0.  ,  0.  ,  0.  ,  0.  ,  0.  ,\n",
       "         0.  ,  0.  ,  0.  ,  0.  ,  0.  ,  0.  ,  6.07,  0.13,  0.15],\n",
       "       [ 0.  ,  0.  ,  0.  ,  0.  ,  0.  ,  0.  ,  0.  ,  1.  ,  0.  ,\n",
       "         0.  ,  0.  ,  0.  ,  0.  ,  0.  ,  0.  ,  0.  ,  0.  ,  0.  ,\n",
       "         0.  ,  0.  ,  1.6 ,  0.11,  2.78, -0.77,  2.95,  0.25,  0.2 ],\n",
       "       [ 0.  ,  0.  ,  0.  ,  0.  ,  0.  ,  1.  ,  0.  ,  0.  ,  0.  ,\n",
       "         0.  ,  0.  ,  0.  ,  0.  ,  0.  ,  0.  ,  0.  ,  0.  ,  0.  ,\n",
       "         0.  ,  0.  ,  0.  ,  0.  ,  0.  ,  0.  ,  6.07,  0.13,  0.15],\n",
       "       [ 0.  ,  0.  ,  0.  ,  0.  ,  0.  ,  0.  ,  1.  ,  0.  ,  0.  ,\n",
       "         0.  ,  0.  ,  0.  ,  0.  ,  0.  ,  0.  ,  0.  ,  0.  ,  0.  ,\n",
       "         0.  ,  0.  ,  1.6 ,  0.13,  2.95, -0.6 ,  6.52,  0.21,  0.22],\n",
       "       [ 0.  ,  0.  ,  1.  ,  0.  ,  0.  ,  0.  ,  0.  ,  0.  ,  0.  ,\n",
       "         0.  ,  0.  ,  0.  ,  0.  ,  0.  ,  0.  ,  0.  ,  0.  ,  0.  ,\n",
       "         0.  ,  0.  ,  3.03,  0.11,  2.6 ,  0.26,  5.6 ,  0.21,  0.36],\n",
       "       [ 0.  ,  0.  ,  0.  ,  0.  ,  0.  ,  0.  ,  0.  ,  1.  ,  0.  ,\n",
       "         0.  ,  0.  ,  0.  ,  0.  ,  0.  ,  0.  ,  0.  ,  0.  ,  0.  ,\n",
       "         0.  ,  0.  ,  1.6 ,  0.11,  2.78, -0.77,  2.95,  0.25,  0.2 ]])"
      ]
     },
     "execution_count": 58,
     "metadata": {},
     "output_type": "execute_result"
    }
   ],
   "source": [
    "cdr_mat"
   ]
  },
  {
   "cell_type": "code",
   "execution_count": 76,
   "metadata": {},
   "outputs": [],
   "source": [
    "Meiler_one_hot = []\n",
    "for i in range(len(df['CDR'])):\n",
    "    on_hot = seq_to_one_hot(df['CDR'][i])\n",
    "#     print(on_hot)\n",
    "    Meiler_one_hot.append(on_hot)"
   ]
  },
  {
   "cell_type": "code",
   "execution_count": 78,
   "metadata": {},
   "outputs": [
    {
     "data": {
      "text/plain": [
       "2070"
      ]
     },
     "execution_count": 78,
     "metadata": {},
     "output_type": "execute_result"
    }
   ],
   "source": [
    "len(Meiler_one_hot)"
   ]
  },
  {
   "cell_type": "code",
   "execution_count": null,
   "metadata": {},
   "outputs": [],
   "source": []
  }
 ],
 "metadata": {
  "kernelspec": {
   "display_name": "Python 3",
   "language": "python",
   "name": "python3"
  },
  "language_info": {
   "codemirror_mode": {
    "name": "ipython",
    "version": 3
   },
   "file_extension": ".py",
   "mimetype": "text/x-python",
   "name": "python",
   "nbconvert_exporter": "python",
   "pygments_lexer": "ipython3",
   "version": "3.7.6"
  }
 },
 "nbformat": 4,
 "nbformat_minor": 4
}
